{
 "cells": [
  {
   "cell_type": "code",
   "execution_count": 3,
   "metadata": {},
   "outputs": [
    {
     "name": "stdout",
     "output_type": "stream",
     "text": [
      "[[2 2]\n",
      " [3 2]]\n"
     ]
    }
   ],
   "source": [
    "import numpy as np\n",
    "import math\n",
    "def find_nearest_neighbor(p, points, k=5):\n",
    "    distances = np.zeros(points.shape[0])\n",
    "    for i in range(len(distances)):\n",
    "        distances[i] = math.dist(p, points[i])\n",
    "    ind = np.argsort(distances)\n",
    "    return ind[0:k]\n",
    "\n",
    "p = np.array([2.5, 2])\n",
    "points = np.array([[1,1],[1,2],[1,3],[2,1],[2,2],[2,3],[3,1],[3,2],[3,3]])\n",
    "ind = find_nearest_neighbor(p, points, 2)\n",
    "print(points[ind])"
   ]
  },
  {
   "cell_type": "code",
   "execution_count": 10,
   "metadata": {},
   "outputs": [
    {
     "name": "stdout",
     "output_type": "stream",
     "text": [
      "(array([[ 0.93236886, -0.76727799],\n",
      "       [-0.09818318,  1.59845078],\n",
      "       [ 0.69475726,  0.30170873],\n",
      "       [-0.93780171,  1.95903631],\n",
      "       [ 1.50730259,  1.21081562],\n",
      "       [ 1.78862408, -1.89557692],\n",
      "       [-0.65090442, -0.30448438],\n",
      "       [ 0.75146512,  1.00574376],\n",
      "       [ 0.52603264, -0.04903887],\n",
      "       [-1.57963549,  0.20143634],\n",
      "       [-0.35592106, -0.01604744],\n",
      "       [ 0.23114413, -0.22184106],\n",
      "       [ 0.2267781 ,  0.19677269],\n",
      "       [-0.50126432, -1.31812404],\n",
      "       [-2.1502669 ,  1.69127846],\n",
      "       [-0.41856506,  0.2399508 ],\n",
      "       [ 0.81131085, -0.03727938],\n",
      "       [-0.87901423,  1.06824215],\n",
      "       [-0.46519056, -1.28630296],\n",
      "       [-0.17555473, -0.87886911],\n",
      "       [ 0.25462481,  2.1286019 ],\n",
      "       [ 1.28432206, -0.10084158],\n",
      "       [ 3.27788592,  1.24036245],\n",
      "       [ 1.33166309,  1.08556405],\n",
      "       [ 1.56837266,  1.01530067],\n",
      "       [ 1.4460278 , -0.2534515 ],\n",
      "       [ 1.11572876,  0.89183588],\n",
      "       [-0.28495118,  1.73148411],\n",
      "       [ 0.7399219 ,  2.40632774],\n",
      "       [ 2.33230914,  1.80528392],\n",
      "       [ 1.70317635,  1.59905685],\n",
      "       [ 1.48749793,  0.4277136 ],\n",
      "       [ 1.51112507,  2.06736796],\n",
      "       [-0.16869216,  0.71395978],\n",
      "       [ 0.52073374,  1.36031281],\n",
      "       [ 0.07853107,  3.03079381],\n",
      "       [-0.05355659,  0.56176807],\n",
      "       [-0.7548769 ,  1.97892109],\n",
      "       [ 2.11285409,  0.4803508 ],\n",
      "       [ 0.83562185,  0.11456323]]), array([0, 0, 0, 0, 0, 1, 1, 1, 1, 1]))\n"
     ]
    },
    {
     "data": {
      "image/png": "[encoded data removed]",
      "text/plain": [
       "<Figure size 432x288 with 1 Axes>"
      ]
     },
     "metadata": {
      "needs_background": "light"
     },
     "output_type": "display_data"
    }
   ],
   "source": [
    "def knn_predict(p, points, outcomes, k=5):\n",
    "    ind = find_nearest_neighbor(p, points, k)\n",
    "    \n",
    "import numpy as np\n",
    "import scipy.stats as ss\n",
    "import matplotlib.pyplot as plt\n",
    "\n",
    "def generate_synthetic_data(n=50):\n",
    "    points = np.concatenate((ss.norm(0,1).rvs((n,2)), ss.norm(1,1).rvs((n,2))), axis=0)\n",
    "    n = 5\n",
    "    outcomes = np.concatenate((np.repeat(0, n), np.repeat(1, n)))\n",
    "    return (points, outcomes)\n",
    "\n",
    "(points, outcomes) = generate_synthetic_data(20)\n",
    "print((points, outcomes))\n",
    "\n",
    "n=20\n",
    "plt.figure()\n",
    "plt.plot(points[:n,0],points[:n,1],\"ro\")\n",
    "plt.plot(points[n:,0],points[n:,1],\"bo\")\n",
    "plt.savefig(\"bivardata.pdf\")\n",
    "    "
   ]
  },
  {
   "cell_type": "code",
   "execution_count": null,
   "metadata": {},
   "outputs": [],
   "source": [
    "import numpy as np\n",
    "def make_prediction_grid(limits):\n",
    "    (x_min, x_max, y_min, y_max) = limits\n",
    "    xs = np.arrange(x_min, x_max, h)\n",
    "    ys = np.arrange(y_min, y_max, h)\n",
    "    xx, yy = np.meshgrid(xs, ys)\n",
    "    prediction_grid = np.zeros(xx.shape, dtype = int)\n",
    "    for i,x in enumerate(xs):\n",
    "        for j,y in enumerate(ys):\n",
    "            p = np.array([x,y])\n",
    "            knn_predict(p, predictors, outcomes, k)"
   ]
  }
 ],
 "metadata": {
  "kernelspec": {
   "display_name": "Python 3",
   "language": "python",
   "name": "python3"
  },
  "language_info": {
   "codemirror_mode": {
    "name": "ipython",
    "version": 3
   },
   "file_extension": ".py",
   "mimetype": "text/x-python",
   "name": "python",
   "nbconvert_exporter": "python",
   "pygments_lexer": "ipython3",
   "version": "3.8.3"
  }
 },
 "nbformat": 4,
 "nbformat_minor": 4
}
