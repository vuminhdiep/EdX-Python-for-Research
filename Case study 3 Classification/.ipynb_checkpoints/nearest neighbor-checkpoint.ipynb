{
 "cells": [
  {
   "cell_type": "code",
   "execution_count": 16,
   "metadata": {},
   "outputs": [],
   "source": [
    "import numpy as np\n",
    "import random\n",
    "import matplotlib.pyplot as plt\n",
    "\n",
    "\n",
    "def distance(p1,p2):\n",
    "    p1=np.array(p1)\n",
    "    p2=np.array(p2)\n",
    "    return np.sqrt(np.sum(np.power(p1-p2,2)))"
   ]
  },
  {
   "cell_type": "code",
   "execution_count": 20,
   "metadata": {},
   "outputs": [
    {
     "name": "stdout",
     "output_type": "stream",
     "text": [
      "[4 7]\n",
      "[[2 2]\n",
      " [3 2]]\n"
     ]
    }
   ],
   "source": [
    "def find_nearest_neibors(p,points,k):\n",
    "    distances=np.zeros(points.shape[0])\n",
    "    for i in range(len(points)):\n",
    "        distances[i]=distance(p,points[i])\n",
    "    ind=np.argsort(distances) \n",
    "    return ind[:k] \n",
    "  \n",
    "\n",
    "points=np.array([[1,1],[1,2],[1,3],[2,1],[2,2],[2,3],[3,1],[3,2],[3,3]])\n",
    "p=np.array([2.5,2])\n",
    "\n",
    "print(find_nearest_neibors(p,points,k=2))\n",
    "print(points[ind])"
   ]
  },
  {
   "cell_type": "code",
   "execution_count": 23,
   "metadata": {},
   "outputs": [
    {
     "name": "stdout",
     "output_type": "stream",
     "text": [
      "2\n",
      "[1.]\n"
     ]
    }
   ],
   "source": [
    "def majority_vote(votes):    \n",
    "    vote_counts={}\n",
    "    for vote in votes:\n",
    "        if vote in vote_counts:\n",
    "            vote_counts[vote]+=1\n",
    "        else:\n",
    "            vote_counts[vote]=1\n",
    "\n",
    "    winners=[]\n",
    "    max_counter=max(vote_counts.values())\n",
    "    for vote, count in vote_counts.items():\n",
    "        if max_counter==count:\n",
    "            winners.append(vote)\n",
    "    return random.choice(winners) \n",
    "\n",
    "\n",
    "print (majority_vote([1,2,3,2,1,1,2,3]))\n",
    "\n",
    "def majority_vote_short(votes):\n",
    "    \n",
    "    mode, count = ss.mstats.mode(votes)\n",
    "    return mode\n",
    "\n",
    "print (majority_vote_short([1,2,3,2,1,1,2,3]))\n"
   ]
  },
  {
   "cell_type": "code",
   "execution_count": 26,
   "metadata": {},
   "outputs": [
    {
     "data": {
      "image/png": "[encoded data removed]",
      "text/plain": [
       "<Figure size 432x288 with 1 Axes>"
      ]
     },
     "metadata": {
      "needs_background": "light"
     },
     "output_type": "display_data"
    }
   ],
   "source": [
    "def knn_predict(p,points,outcomes,k):\n",
    "    ind=find_nearest_neibors(p,points,k)\n",
    "    return majority_vote(outcomes[ind])\n",
    "    \n",
    "outcomes = np.array([0,0,0,0,1,1,1,1,1])\n",
    "#print (knn_predict(np.array([2.5,2.7]),points,outcomes,k=2))\n",
    "    \n",
    "import numpy as np\n",
    "import scipy.stats as ss\n",
    "import matplotlib.pyplot as plt\n",
    "\n",
    "def generate_synth_data(n=50):\n",
    "    \n",
    "    points=np.concatenate((ss.norm(0,1).rvs((n,2)),ss.norm(1,1).rvs((n,2))),axis=0)\n",
    "    outcomes=np.concatenate((np.repeat(0,n),np.repeat(1,n)))\n",
    "    return (points,outcomes)\n",
    "\n",
    "n=20\n",
    "points,outcomes=generate_synth_data(n=20)\n",
    "plt.figure()\n",
    "plt.plot(points[:n,0],points[:n,1],\"ro\")\n",
    "plt.plot(points[n:,0],points[n:,1],\"bo\")\n",
    "plt.savefig(\"bivardata.pdf.pdf\")\n"
   ]
  },
  {
   "cell_type": "code",
   "execution_count": 29,
   "metadata": {},
   "outputs": [],
   "source": [
    "import numpy as np\n",
    "def make_prediction_grid(predictors,outcomes,limits,h,k):\n",
    "    \"\"\"classify each point on the prediction grid.\"\"\"\n",
    "    (x_min,x_max,y_min,y_max)=limits\n",
    "    xs=np.arange(x_min,x_max,h)\n",
    "    ys=np.arange(y_min,y_max,h)\n",
    "    xx,yy = np.meshgrid(xs,ys)\n",
    "\n",
    "    prediction_grid=np.zeros(xx.shape, dtype=int)\n",
    "    for i, x in enumerate(xs):\n",
    "        for j, y in enumerate(ys):\n",
    "            p=np.array([x,y])\n",
    "            prediction_grid[j,i]=knn_predict(p,predictors,outcomes,k)\n",
    "\n",
    "    return (xx,yy,prediction_grid)\n"
   ]
  },
  {
   "cell_type": "code",
   "execution_count": null,
   "metadata": {},
   "outputs": [],
   "source": [
    "def plot_prediction_grid (xx, yy, prediction_grid, filename):\n",
    "    \"\"\" Plot KNN predictions for every point on the grid.\"\"\"\n",
    "    from matplotlib.colors import ListedColormap\n",
    "    background_colormap = ListedColormap ([\"hotpink\",\"lightskyblue\", \"yellowgreen\"])\n",
    "    observation_colormap = ListedColormap ([\"red\",\"blue\",\"green\"])\n",
    "    plt.figure(figsize =(10,10))\n",
    "    plt.pcolormesh(xx, yy, prediction_grid, cmap = background_colormap, alpha = 0.5)\n",
    "    plt.scatter(predictors[:,0], predictors [:,1], c = outcomes, cmap = observation_colormap ,s = 50)\n",
    "    plt.xlabel('Variable 1'); plt.ylabel('Variable 2')\n",
    "    plt.xticks(()); plt.yticks(())\n",
    "    plt.xlim (np.min(xx), np.max(xx))\n",
    "    plt.ylim (np.min(yy), np.max(yy))\n",
    "    plt.savefig(filename)\n",
    "\n",
    "(predictors,outcomes)=generate_synth_data()\n",
    "\n",
    "k=5;filename=\"knn_synth_5.pdf\";limits=(-3,4,-3,4) ;h=0.1\n",
    "(xx,yy,prediction_grid)=make_prediction_grid(predictors,outcomes,limits,h,k)\n",
    "plot_prediction_grid(xx,yy,prediction_grid,filename)\n",
    "\n",
    "\n",
    "k=50;filename=\"knn_synth_50.pdf\";limits=(-3,4,-3,4) ;h=0.1\n",
    "(xx,yy,prediction_grid)=make_prediction_grid(predictors,outcomes,limits,h,k)\n",
    "plot_prediction_grid(xx,yy,prediction_grid,filename)\n"
   ]
  }
 ],
 "metadata": {
  "kernelspec": {
   "display_name": "Python 3",
   "language": "python",
   "name": "python3"
  },
  "language_info": {
   "codemirror_mode": {
    "name": "ipython",
    "version": 3
   },
   "file_extension": ".py",
   "mimetype": "text/x-python",
   "name": "python",
   "nbconvert_exporter": "python",
   "pygments_lexer": "ipython3",
   "version": "3.8.3"
  }
 },
 "nbformat": 4,
 "nbformat_minor": 4
}
