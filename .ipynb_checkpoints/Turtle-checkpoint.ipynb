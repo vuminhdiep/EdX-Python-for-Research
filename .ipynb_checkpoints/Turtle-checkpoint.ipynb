{
 "cells": [
  {
   "cell_type": "code",
   "execution_count": 8,
   "metadata": {},
   "outputs": [],
   "source": [
    "#pylint: disable=no-member\n",
    "import turtle\n",
    "turtle.speed(\"fastest\")\n",
    "\n",
    "def setup_coordinate_system(min_x, min_y, max_x, max_y):\n",
    "    padding = 5\n",
    "    # This turtle function changes where (0,0) is on the screen.\n",
    "    turtle.setworldcoordinates(min_x-padding, min_y-padding, max_x+padding, max_y+padding)\n",
    "    cross(min_x, min_y, max_x, max_y)\n",
    "\n"
   ]
  },
  {
   "cell_type": "code",
   "execution_count": 2,
   "metadata": {},
   "outputs": [],
   "source": [
    "# Add an appropriate comment here.\n",
    "def cross(min_x, min_y, max_x, max_y):\n",
    "    turtle.penup()\n",
    "    turtle.setpos(min_x,0)\n",
    "    turtle.pendown()\n",
    "     \n",
    "    turtle.forward(max_x - min_x)\n",
    "     \n",
    "    turtle.penup()\n",
    "    turtle.setpos(0, min_y)\n",
    "    turtle.pendown()\n",
    "     \n",
    "    turtle.left(90)\n",
    "    turtle.forward(max_y - min_y)\n"
   ]
  },
  {
   "cell_type": "code",
   "execution_count": 3,
   "metadata": {},
   "outputs": [],
   "source": [
    "# Add an appropriate comment here.\n",
    "def rectangle(x, y, width, height):\n",
    "    turtle.penup()\n",
    "    turtle.setpos(x,y)\n",
    "    turtle.pendown()\n",
    "   \n",
    "    turtle.forward(height)\n",
    "    turtle.left(90)\n",
    "    turtle.forward(width)\n",
    "    turtle.left(90)\n",
    "    turtle.forward(height)\n",
    "    turtle.left(90)\n",
    "    turtle.forward(width)\n",
    "    turtle.left(90)"
   ]
  },
  {
   "cell_type": "code",
   "execution_count": 4,
   "metadata": {},
   "outputs": [],
   "source": [
    "# Draw a bar of the given height at the given x location and fill it with the given color.\n",
    "# Add the given label underneath.\n",
    "def bar(height, x, color, label):\n",
    "    turtle.color(\"black\", \"red\")\n",
    "    turtle.begin_fill()\n",
    "    print(rectangle(20, 0, 15, 85))\n",
    "    turtle.end_fill()\n",
    "    turtle.penup()\n",
    "    turtle.setpos(5,-5)\n",
    "    turtle.pendown()\n",
    "    turtle.write('Strawyberry Rhubarb')\n",
    "\n",
    "    turtle.color(\"black\", \"orange\")\n",
    "    turtle.begin_fill()\n",
    "    print(rectangle(45, 0, 15, 64))\n",
    "    turtle.end_fill()\n",
    "    turtle.penup()\n",
    "    turtle.setpos(35,-5)\n",
    "    turtle.pendown()\n",
    "    turtle.write('Pumpkin')\n",
    "\n",
    "    turtle.color(\"black\", \"yellow\")\n",
    "    turtle.begin_fill()\n",
    "    print(rectangle(70, 0, 15, 75))\n",
    "    turtle.end_fill()\n",
    "    turtle.penup()\n",
    "    turtle.setpos(55,-5)\n",
    "    turtle.pendown()\n",
    "    turtle.write('Lemon Meringue')\n",
    "\n",
    "    turtle.color(\"black\", \"blue\")\n",
    "    turtle.begin_fill()\n",
    "    print(rectangle(95, 0, 15, 100))\n",
    "    turtle.end_fill()\n",
    "    turtle.penup()\n",
    "    turtle.setpos(82,-5)\n",
    "    turtle.pendown()\n",
    "    turtle.write('Blueberry')\n",
    "\n",
    "    turtle.color(\"black\", \"green\")\n",
    "    turtle.begin_fill()\n",
    "    print(rectangle(120, 0, 15, 75))\n",
    "    turtle.end_fill()\n",
    "    turtle.penup()\n",
    "    turtle.setpos(105,-5)\n",
    "    turtle.pendown()\n",
    "    turtle.write('Key Lime')"
   ]
  },
  {
   "cell_type": "code",
   "execution_count": null,
   "metadata": {},
   "outputs": [],
   "source": [
    "# Draw a tick mark and label at the indicated position on the y-axis.\n",
    "def add_tick_y(y_val):\n",
    "    turtle.home()\n",
    "    turtle.mode(\"logo\")\n",
    "    turtle.penup()\n",
    "    turtle.forward(y_val)\n",
    "    turtle.left(90)\n",
    "    turtle.pendown()\n",
    "    turtle.forward(5)\n",
    "    turtle.write(str(y_val))\n",
    "    \n",
    "    "
   ]
  },
  {
   "cell_type": "code",
   "execution_count": null,
   "metadata": {},
   "outputs": [],
   "source": [
    "# drawing the bar chart\n",
    "setup_coordinate_system(-10, -10, 180, 120)\n",
    "add_tick_y(100)\n",
    "add_tick_y(50)\n",
    "bar(85, 10, \"red\", \"Strawberry Rhubarb\")\n",
    "bar(64, 40, \"orange\", \"Pumpkin\")\n",
    "bar(75, 70, \"yellow\", \"Lemon Meringue\")\n",
    "bar(100, 100, \"blue\", \"Blueberry\")\n",
    "bar(51, 130, \"green\", \"Key Lime\")\n",
    "\n",
    "turtle.hideturtle()\n",
    "turtle.done()"
   ]
  },
  {
   "cell_type": "code",
   "execution_count": null,
   "metadata": {},
   "outputs": [],
   "source": []
  }
 ],
 "metadata": {
  "kernelspec": {
   "display_name": "Python 3",
   "language": "python",
   "name": "python3"
  },
  "language_info": {
   "codemirror_mode": {
    "name": "ipython",
    "version": 3
   },
   "file_extension": ".py",
   "mimetype": "text/x-python",
   "name": "python",
   "nbconvert_exporter": "python",
   "pygments_lexer": "ipython3",
   "version": "3.8.3"
  }
 },
 "nbformat": 4,
 "nbformat_minor": 4
}
